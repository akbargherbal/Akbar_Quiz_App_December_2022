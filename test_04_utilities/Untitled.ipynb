{
 "cells": [
  {
   "cell_type": "code",
   "execution_count": 3,
   "metadata": {},
   "outputs": [],
   "source": [
    "dict_01 = {1: '01_EN_NOUN_AV 16NOV2022', 2: '02_EN_VERB_AV 16NOV2022', 3: '03_AR_UN_CORPUS 16NOV2022'}\n",
    "\n",
    "\n",
    "list_01 = []\n",
    "for k,v in dict_01.items():\n",
    "    list_01.append(f'''\n",
    "<form  class=\"quiz_selection\" method=\"post\" action=\"/\">\n",
    "    <input type=\"hidden\" name=\"request_quiz_name\" value={k}>\n",
    "    <button type=\"submit\" class=\"btn btn-outline-primary bth_quiz_selec\">{v}</button>\n",
    "</form>\n",
    "''')\n",
    "    "
   ]
  },
  {
   "cell_type": "code",
   "execution_count": 7,
   "metadata": {},
   "outputs": [
    {
     "name": "stdout",
     "output_type": "stream",
     "text": [
      "\n",
      "<form  class=\"quiz_selection\" method=\"post\" action=\"/\">\n",
      "    <input type=\"hidden\" name=\"request_quiz_name\" value=3>\n",
      "    <button type=\"submit\" class=\"btn btn-outline-primary bth_quiz_selec\">03_AR_UN_CORPUS 16NOV2022</button>\n",
      "</form>\n",
      "\n"
     ]
    }
   ],
   "source": [
    "print(list_01[2])"
   ]
  },
  {
   "cell_type": "code",
   "execution_count": 8,
   "metadata": {},
   "outputs": [
    {
     "name": "stdout",
     "output_type": "stream",
     "text": [
      "['<form  class=\"quiz_selection\" method=\"post\" action…z_selec\">01_EN_NOUN_AV 16NOV2022</button>\\n</form>', '<form  class=\"quiz_selection\" method=\"post\" action…z_selec\">02_EN_VERB_AV 16NOV2022</button>\\n</form>', '<form  class=\"quiz_selection\" method=\"post\" action…selec\">03_AR_UN_CORPUS 16NOV2022</button>\\n</form>']\n"
     ]
    }
   ],
   "source": [
    "print(['<form  class=\"quiz_selection\" method=\"post\" action…z_selec\">01_EN_NOUN_AV 16NOV2022</button>\\n</form>', '<form  class=\"quiz_selection\" method=\"post\" action…z_selec\">02_EN_VERB_AV 16NOV2022</button>\\n</form>', '<form  class=\"quiz_selection\" method=\"post\" action…selec\">03_AR_UN_CORPUS 16NOV2022</button>\\n</form>'])"
   ]
  },
  {
   "cell_type": "code",
   "execution_count": null,
   "metadata": {},
   "outputs": [],
   "source": []
  }
 ],
 "metadata": {
  "kernelspec": {
   "display_name": "Python 3",
   "language": "python",
   "name": "python3"
  },
  "language_info": {
   "codemirror_mode": {
    "name": "ipython",
    "version": 3
   },
   "file_extension": ".py",
   "mimetype": "text/x-python",
   "name": "python",
   "nbconvert_exporter": "python",
   "pygments_lexer": "ipython3",
   "version": "3.8.7"
  }
 },
 "nbformat": 4,
 "nbformat_minor": 4
}
