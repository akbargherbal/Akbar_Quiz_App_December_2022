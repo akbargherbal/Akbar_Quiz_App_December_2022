{
 "cells": [
  {
   "cell_type": "code",
   "execution_count": 26,
   "metadata": {},
   "outputs": [],
   "source": [
    "from pathlib import Path"
   ]
  },
  {
   "cell_type": "code",
   "execution_count": 3,
   "metadata": {},
   "outputs": [],
   "source": [
    "from utilities import get_datetime_now, get_quiz_collection\n",
    "\n",
    "import pandas as pd\n",
    "\n",
    "from zipfile import ZipFile"
   ]
  },
  {
   "cell_type": "code",
   "execution_count": 11,
   "metadata": {},
   "outputs": [],
   "source": [
    "import os"
   ]
  },
  {
   "cell_type": "code",
   "execution_count": 10,
   "metadata": {},
   "outputs": [
    {
     "data": {
      "text/plain": [
       "'EN_NOUN_AV_16NOV2022/NOUN_QUIZ_001.csv'"
      ]
     },
     "execution_count": 10,
     "metadata": {},
     "output_type": "execute_result"
    }
   ],
   "source": [
    "quiz_path"
   ]
  },
  {
   "cell_type": "code",
   "execution_count": null,
   "metadata": {},
   "outputs": [],
   "source": []
  },
  {
   "cell_type": "code",
   "execution_count": 9,
   "metadata": {},
   "outputs": [
    {
     "data": {
      "text/html": [
       "<div>\n",
       "<style scoped>\n",
       "    .dataframe tbody tr th:only-of-type {\n",
       "        vertical-align: middle;\n",
       "    }\n",
       "\n",
       "    .dataframe tbody tr th {\n",
       "        vertical-align: top;\n",
       "    }\n",
       "\n",
       "    .dataframe thead th {\n",
       "        text-align: right;\n",
       "    }\n",
       "</style>\n",
       "<table border=\"1\" class=\"dataframe\">\n",
       "  <thead>\n",
       "    <tr style=\"text-align: right;\">\n",
       "      <th></th>\n",
       "      <th>QUESTION_TEXT</th>\n",
       "      <th>OPTION_1</th>\n",
       "      <th>OPTION_2</th>\n",
       "      <th>OPTION_3</th>\n",
       "    </tr>\n",
       "  </thead>\n",
       "  <tbody>\n",
       "    <tr>\n",
       "      <th>0</th>\n",
       "      <td>M _ _  looked at me solemnly, seemingly prepar...</td>\n",
       "      <td>mom</td>\n",
       "      <td>MOM</td>\n",
       "      <td>Mom</td>\n",
       "    </tr>\n",
       "    <tr>\n",
       "      <th>1</th>\n",
       "      <td>The doorframe and adjacent pillar had broken u...</td>\n",
       "      <td>life</td>\n",
       "      <td>LIFE</td>\n",
       "      <td>Life</td>\n",
       "    </tr>\n",
       "    <tr>\n",
       "      <th>2</th>\n",
       "      <td>The box was twelve inches square, five i _ _ _...</td>\n",
       "      <td>inches</td>\n",
       "      <td>INCHES</td>\n",
       "      <td>Inches</td>\n",
       "    </tr>\n",
       "    <tr>\n",
       "      <th>3</th>\n",
       "      <td>Aideen looked back. The Spanish soldiers were ...</td>\n",
       "      <td>masks</td>\n",
       "      <td>MASKS</td>\n",
       "      <td>Masks</td>\n",
       "    </tr>\n",
       "    <tr>\n",
       "      <th>4</th>\n",
       "      <td>In a pocket of her jacket, she has a straight ...</td>\n",
       "      <td>razor</td>\n",
       "      <td>RAZOR</td>\n",
       "      <td>Razor</td>\n",
       "    </tr>\n",
       "    <tr>\n",
       "      <th>5</th>\n",
       "      <td>\"Well, get dressed and we'll have breakfast.\" ...</td>\n",
       "      <td>meal</td>\n",
       "      <td>MEAL</td>\n",
       "      <td>Meal</td>\n",
       "    </tr>\n",
       "    <tr>\n",
       "      <th>6</th>\n",
       "      <td>\"Lord Elend,\" Vin said, looking down, seeming ...</td>\n",
       "      <td>front</td>\n",
       "      <td>FRONT</td>\n",
       "      <td>Front</td>\n",
       "    </tr>\n",
       "    <tr>\n",
       "      <th>7</th>\n",
       "      <td>They couldn't kill Lamia for good. The earth g...</td>\n",
       "      <td>world</td>\n",
       "      <td>WORLD</td>\n",
       "      <td>World</td>\n",
       "    </tr>\n",
       "    <tr>\n",
       "      <th>8</th>\n",
       "      <td>I'd like to think that there is a chasm betwee...</td>\n",
       "      <td>flesh</td>\n",
       "      <td>FLESH</td>\n",
       "      <td>Flesh</td>\n",
       "    </tr>\n",
       "    <tr>\n",
       "      <th>9</th>\n",
       "      <td>\"Weirdo.\" But his s _ _ _ e faded quickly when...</td>\n",
       "      <td>smile</td>\n",
       "      <td>SMILE</td>\n",
       "      <td>Smile</td>\n",
       "    </tr>\n",
       "    <tr>\n",
       "      <th>10</th>\n",
       "      <td>He managed a grunt. That response seemed to am...</td>\n",
       "      <td>arms</td>\n",
       "      <td>ARMS</td>\n",
       "      <td>Arms</td>\n",
       "    </tr>\n",
       "    <tr>\n",
       "      <th>11</th>\n",
       "      <td>\"And to seal it-\" She rose and turned to the s...</td>\n",
       "      <td>box</td>\n",
       "      <td>BOX</td>\n",
       "      <td>Box</td>\n",
       "    </tr>\n",
       "    <tr>\n",
       "      <th>12</th>\n",
       "      <td>Instead you have the normal array of knacks an...</td>\n",
       "      <td>human</td>\n",
       "      <td>HUMAN</td>\n",
       "      <td>Human</td>\n",
       "    </tr>\n",
       "    <tr>\n",
       "      <th>13</th>\n",
       "      <td>\"Is there another room where I could sit?\" he ...</td>\n",
       "      <td>dining</td>\n",
       "      <td>DINING</td>\n",
       "      <td>Dining</td>\n",
       "    </tr>\n",
       "    <tr>\n",
       "      <th>14</th>\n",
       "      <td>'Sure, I guess so,' Naomi had replied. She loo...</td>\n",
       "      <td>marriage</td>\n",
       "      <td>MARRIAGE</td>\n",
       "      <td>Marriage</td>\n",
       "    </tr>\n",
       "    <tr>\n",
       "      <th>15</th>\n",
       "      <td>\"Helatin,\" Sireos said in a firm tone of voice...</td>\n",
       "      <td>liquid</td>\n",
       "      <td>LIQUID</td>\n",
       "      <td>Liquid</td>\n",
       "    </tr>\n",
       "    <tr>\n",
       "      <th>16</th>\n",
       "      <td>She sat in a chair next to him. \"Hey, we need ...</td>\n",
       "      <td>care</td>\n",
       "      <td>CARE</td>\n",
       "      <td>Care</td>\n",
       "    </tr>\n",
       "    <tr>\n",
       "      <th>17</th>\n",
       "      <td>He turned to the charging pack. An overhand ri...</td>\n",
       "      <td>tree</td>\n",
       "      <td>TREE</td>\n",
       "      <td>Tree</td>\n",
       "    </tr>\n",
       "    <tr>\n",
       "      <th>18</th>\n",
       "      <td>Charity turned her face away from Molly, a kin...</td>\n",
       "      <td>grief</td>\n",
       "      <td>GRIEF</td>\n",
       "      <td>Grief</td>\n",
       "    </tr>\n",
       "    <tr>\n",
       "      <th>19</th>\n",
       "      <td>At H-hour, F-117 stealth bombers dropped two 2...</td>\n",
       "      <td>helicopter</td>\n",
       "      <td>HELICOPTER</td>\n",
       "      <td>Helicopter</td>\n",
       "    </tr>\n",
       "  </tbody>\n",
       "</table>\n",
       "</div>"
      ],
      "text/plain": [
       "                                        QUESTION_TEXT    OPTION_1    OPTION_2  \\\n",
       "0   M _ _  looked at me solemnly, seemingly prepar...         mom         MOM   \n",
       "1   The doorframe and adjacent pillar had broken u...        life        LIFE   \n",
       "2   The box was twelve inches square, five i _ _ _...      inches      INCHES   \n",
       "3   Aideen looked back. The Spanish soldiers were ...       masks       MASKS   \n",
       "4   In a pocket of her jacket, she has a straight ...       razor       RAZOR   \n",
       "5   \"Well, get dressed and we'll have breakfast.\" ...        meal        MEAL   \n",
       "6   \"Lord Elend,\" Vin said, looking down, seeming ...       front       FRONT   \n",
       "7   They couldn't kill Lamia for good. The earth g...       world       WORLD   \n",
       "8   I'd like to think that there is a chasm betwee...       flesh       FLESH   \n",
       "9   \"Weirdo.\" But his s _ _ _ e faded quickly when...       smile       SMILE   \n",
       "10  He managed a grunt. That response seemed to am...        arms        ARMS   \n",
       "11  \"And to seal it-\" She rose and turned to the s...         box         BOX   \n",
       "12  Instead you have the normal array of knacks an...       human       HUMAN   \n",
       "13  \"Is there another room where I could sit?\" he ...      dining      DINING   \n",
       "14  'Sure, I guess so,' Naomi had replied. She loo...    marriage    MARRIAGE   \n",
       "15  \"Helatin,\" Sireos said in a firm tone of voice...      liquid      LIQUID   \n",
       "16  She sat in a chair next to him. \"Hey, we need ...        care        CARE   \n",
       "17  He turned to the charging pack. An overhand ri...        tree        TREE   \n",
       "18  Charity turned her face away from Molly, a kin...       grief       GRIEF   \n",
       "19  At H-hour, F-117 stealth bombers dropped two 2...  helicopter  HELICOPTER   \n",
       "\n",
       "      OPTION_3  \n",
       "0          Mom  \n",
       "1         Life  \n",
       "2       Inches  \n",
       "3        Masks  \n",
       "4        Razor  \n",
       "5         Meal  \n",
       "6        Front  \n",
       "7        World  \n",
       "8        Flesh  \n",
       "9        Smile  \n",
       "10        Arms  \n",
       "11         Box  \n",
       "12       Human  \n",
       "13      Dining  \n",
       "14    Marriage  \n",
       "15      Liquid  \n",
       "16        Care  \n",
       "17        Tree  \n",
       "18       Grief  \n",
       "19  Helicopter  "
      ]
     },
     "execution_count": 9,
     "metadata": {},
     "output_type": "execute_result"
    }
   ],
   "source": [
    "pd.read_csv(zf.open(quiz_path), encoding='utf-8')"
   ]
  },
  {
   "cell_type": "code",
   "execution_count": 13,
   "metadata": {},
   "outputs": [
    {
     "data": {
      "text/plain": [
       "['01_EN_NOUN_AV_16NOV2022.zip',\n",
       " '02_EN_VERB_AV_16NOV2022.zip',\n",
       " '03_AR_UN_CORPUS_16NOV2022.zip']"
      ]
     },
     "execution_count": 13,
     "metadata": {},
     "output_type": "execute_result"
    }
   ],
   "source": [
    "os.listdir('quiz_repo/')"
   ]
  },
  {
   "cell_type": "code",
   "execution_count": 40,
   "metadata": {},
   "outputs": [],
   "source": [
    "quiz_repo = os.listdir('quiz_repo')\n",
    "quiz_repo_dict = {int(i.split('_')[0]):f'quiz_repo/{i}' for i in quiz_repo if i.endswith('.zip')}"
   ]
  },
  {
   "cell_type": "code",
   "execution_count": 41,
   "metadata": {},
   "outputs": [],
   "source": [
    "test_01 = quiz_repo_dict.get(1)"
   ]
  },
  {
   "cell_type": "code",
   "execution_count": 42,
   "metadata": {},
   "outputs": [
    {
     "data": {
      "text/plain": [
       "os.stat_result(st_mode=33206, st_ino=9007199256963210, st_dev=2759166536, st_nlink=1, st_uid=0, st_gid=0, st_size=247056, st_atime=1670260514, st_mtime=1670240402, st_ctime=1670258168)"
      ]
     },
     "execution_count": 42,
     "metadata": {},
     "output_type": "execute_result"
    }
   ],
   "source": [
    "Path(test_01).stat()"
   ]
  },
  {
   "cell_type": "code",
   "execution_count": 43,
   "metadata": {},
   "outputs": [
    {
     "data": {
      "text/plain": [
       "'quiz_repo/01_EN_NOUN_AV_16NOV2022.zip'"
      ]
     },
     "execution_count": 43,
     "metadata": {},
     "output_type": "execute_result"
    }
   ],
   "source": [
    "test_01"
   ]
  },
  {
   "cell_type": "code",
   "execution_count": 55,
   "metadata": {},
   "outputs": [],
   "source": [
    "dict_01 = {'wrong_answer1': 'البحري', 'wrong_answer2': 'مؤقت', 'wrong_answer3': 'المشاكل', 'wrong_answer4': 'المؤتمر', 'wrong_answer5': 'إقليم', 'wrong_answer6': 'مكتب', 'wrong_answer7': 'الخصوص', 'wrong_answer8': 'المحلية', 'wrong_answer9': 'للأصول', 'wrong_answer10': 'الدينية', 'wrong_answer11': 'الصادرات', 'wrong_answer12': 'وثائق', 'wrong_answer13': 'الصناعية', 'wrong_answer14': 'قيام', 'wrong_answer15': 'جولة', 'wrong_answer16': 'الإجمالية', 'wrong_answer17': 'وصناديقها', 'wrong_answer18': 'كفركلا', 'wrong_answer19': 'الحائزة', 'wrong_answer20': 'الإشارة', 'quiz_name': 'AR_UN_CORPUS_16NOV2022/AR_GENERAL_VOCABULARY_001.csv', 'quiz_result': 'quiz_result', 'quiz_duration_minutes': '0', 'number_of_wrong_answers': '20'}"
   ]
  },
  {
   "cell_type": "code",
   "execution_count": 56,
   "metadata": {},
   "outputs": [],
   "source": [
    "dict_01 = {k:v for k,v in dict_01.items() if ((k.startswith('wrong_answer') == False) and (k != 'quiz_result'))}"
   ]
  },
  {
   "cell_type": "code",
   "execution_count": 59,
   "metadata": {},
   "outputs": [],
   "source": [
    "dict_01['date_time'] = get_datetime_now()"
   ]
  },
  {
   "cell_type": "code",
   "execution_count": 60,
   "metadata": {},
   "outputs": [
    {
     "data": {
      "text/html": [
       "<div>\n",
       "<style scoped>\n",
       "    .dataframe tbody tr th:only-of-type {\n",
       "        vertical-align: middle;\n",
       "    }\n",
       "\n",
       "    .dataframe tbody tr th {\n",
       "        vertical-align: top;\n",
       "    }\n",
       "\n",
       "    .dataframe thead th {\n",
       "        text-align: right;\n",
       "    }\n",
       "</style>\n",
       "<table border=\"1\" class=\"dataframe\">\n",
       "  <thead>\n",
       "    <tr style=\"text-align: right;\">\n",
       "      <th></th>\n",
       "      <th>quiz_name</th>\n",
       "      <th>quiz_duration_minutes</th>\n",
       "      <th>number_of_wrong_answers</th>\n",
       "      <th>date_time</th>\n",
       "    </tr>\n",
       "  </thead>\n",
       "  <tbody>\n",
       "    <tr>\n",
       "      <th>0</th>\n",
       "      <td>AR_UN_CORPUS_16NOV2022/AR_GENERAL_VOCABULARY_0...</td>\n",
       "      <td>0</td>\n",
       "      <td>20</td>\n",
       "      <td>2022-12-05 23:53:53</td>\n",
       "    </tr>\n",
       "  </tbody>\n",
       "</table>\n",
       "</div>"
      ],
      "text/plain": [
       "                                           quiz_name quiz_duration_minutes  \\\n",
       "0  AR_UN_CORPUS_16NOV2022/AR_GENERAL_VOCABULARY_0...                     0   \n",
       "\n",
       "  number_of_wrong_answers            date_time  \n",
       "0                      20  2022-12-05 23:53:53  "
      ]
     },
     "execution_count": 60,
     "metadata": {},
     "output_type": "execute_result"
    }
   ],
   "source": [
    "pd.DataFrame(dict_01.values(), index=dict_01.keys()).T"
   ]
  },
  {
   "cell_type": "code",
   "execution_count": null,
   "metadata": {},
   "outputs": [],
   "source": []
  },
  {
   "cell_type": "code",
   "execution_count": 86,
   "metadata": {},
   "outputs": [],
   "source": [
    "dict_01 = {'a': 3232, 'zy': 323.6, 'aff': 'xyz dfsfasdfsa dfsfsd', 'b':[2, '343', [2343, 113]]}"
   ]
  },
  {
   "cell_type": "code",
   "execution_count": 87,
   "metadata": {},
   "outputs": [],
   "source": [
    "dict_02 = {'a': 3232, 'zy': 323.6, 'b':[2, '343']}"
   ]
  },
  {
   "cell_type": "code",
   "execution_count": 120,
   "metadata": {},
   "outputs": [],
   "source": [
    "dict_03 = {'a': 3232, 'zy': 323.6, 'b':[2, '343']}"
   ]
  },
  {
   "cell_type": "code",
   "execution_count": 90,
   "metadata": {},
   "outputs": [],
   "source": [
    "df_01 = pd.DataFrame(data = dict_01.values(), index=dict_01.keys()).T"
   ]
  },
  {
   "cell_type": "code",
   "execution_count": 94,
   "metadata": {},
   "outputs": [],
   "source": [
    "df_01.to_json('TEST_JSON.json', orient='records')"
   ]
  },
  {
   "cell_type": "code",
   "execution_count": 97,
   "metadata": {},
   "outputs": [],
   "source": [
    "df_01 = pd.read_json('TEST_JSON.json', encoding='utf-8')"
   ]
  },
  {
   "cell_type": "code",
   "execution_count": 133,
   "metadata": {},
   "outputs": [],
   "source": [
    "def append_dict_to_df(df_x, dict_x):\n",
    "    df_temp = pd.DataFrame(data=dict_x.values(), index=dict_x.keys()).T\n",
    "    result = pd.concat([df_x, df_temp]).reset_index(drop=True)\n",
    "    print(len(result))\n",
    "    return result"
   ]
  },
  {
   "cell_type": "code",
   "execution_count": 138,
   "metadata": {},
   "outputs": [],
   "source": [
    "def update_json_file_with_dict(path_to_json, dict_x, save_file=False):\n",
    "    df_old = pd.read_json(path_to_json, encoding='utf-8')\n",
    "    result = append_dict_to_df(df_old, dict_x).reset_index(drop=True)\n",
    "    \n",
    "    if save_file:\n",
    "        result.to_json(path_to_json, orient='records')\n",
    "    return result"
   ]
  },
  {
   "cell_type": "code",
   "execution_count": 139,
   "metadata": {},
   "outputs": [
    {
     "name": "stdout",
     "output_type": "stream",
     "text": [
      "2\n"
     ]
    }
   ],
   "source": [
    "x = update_json_file_with_dict('TEST_JSON.json', dict_02, save_file=True)"
   ]
  },
  {
   "cell_type": "code",
   "execution_count": 140,
   "metadata": {},
   "outputs": [
    {
     "name": "stdout",
     "output_type": "stream",
     "text": [
      "3\n"
     ]
    },
    {
     "data": {
      "text/html": [
       "<div>\n",
       "<style scoped>\n",
       "    .dataframe tbody tr th:only-of-type {\n",
       "        vertical-align: middle;\n",
       "    }\n",
       "\n",
       "    .dataframe tbody tr th {\n",
       "        vertical-align: top;\n",
       "    }\n",
       "\n",
       "    .dataframe thead th {\n",
       "        text-align: right;\n",
       "    }\n",
       "</style>\n",
       "<table border=\"1\" class=\"dataframe\">\n",
       "  <thead>\n",
       "    <tr style=\"text-align: right;\">\n",
       "      <th></th>\n",
       "      <th>a</th>\n",
       "      <th>zy</th>\n",
       "      <th>aff</th>\n",
       "      <th>b</th>\n",
       "    </tr>\n",
       "  </thead>\n",
       "  <tbody>\n",
       "    <tr>\n",
       "      <th>0</th>\n",
       "      <td>3232</td>\n",
       "      <td>323.6</td>\n",
       "      <td>xyz dfsfasdfsa dfsfsd</td>\n",
       "      <td>[2, 343, [2343, 113]]</td>\n",
       "    </tr>\n",
       "    <tr>\n",
       "      <th>1</th>\n",
       "      <td>3232</td>\n",
       "      <td>323.6</td>\n",
       "      <td>None</td>\n",
       "      <td>[2, 343]</td>\n",
       "    </tr>\n",
       "    <tr>\n",
       "      <th>2</th>\n",
       "      <td>3232</td>\n",
       "      <td>323.6</td>\n",
       "      <td>NaN</td>\n",
       "      <td>[2, 343]</td>\n",
       "    </tr>\n",
       "  </tbody>\n",
       "</table>\n",
       "</div>"
      ],
      "text/plain": [
       "      a     zy                    aff                      b\n",
       "0  3232  323.6  xyz dfsfasdfsa dfsfsd  [2, 343, [2343, 113]]\n",
       "1  3232  323.6                   None               [2, 343]\n",
       "2  3232  323.6                    NaN               [2, 343]"
      ]
     },
     "execution_count": 140,
     "metadata": {},
     "output_type": "execute_result"
    }
   ],
   "source": [
    "update_json_file_with_dict('TEST_JSON.json', dict_03, save_file=True)"
   ]
  },
  {
   "cell_type": "code",
   "execution_count": 141,
   "metadata": {},
   "outputs": [
    {
     "name": "stdout",
     "output_type": "stream",
     "text": [
      "2\n"
     ]
    },
    {
     "data": {
      "text/html": [
       "<div>\n",
       "<style scoped>\n",
       "    .dataframe tbody tr th:only-of-type {\n",
       "        vertical-align: middle;\n",
       "    }\n",
       "\n",
       "    .dataframe tbody tr th {\n",
       "        vertical-align: top;\n",
       "    }\n",
       "\n",
       "    .dataframe thead th {\n",
       "        text-align: right;\n",
       "    }\n",
       "</style>\n",
       "<table border=\"1\" class=\"dataframe\">\n",
       "  <thead>\n",
       "    <tr style=\"text-align: right;\">\n",
       "      <th></th>\n",
       "      <th>a</th>\n",
       "      <th>zy</th>\n",
       "      <th>aff</th>\n",
       "      <th>b</th>\n",
       "    </tr>\n",
       "  </thead>\n",
       "  <tbody>\n",
       "    <tr>\n",
       "      <th>0</th>\n",
       "      <td>3232</td>\n",
       "      <td>323.6</td>\n",
       "      <td>xyz dfsfasdfsa dfsfsd</td>\n",
       "      <td>[2, 343, [2343, 113]]</td>\n",
       "    </tr>\n",
       "    <tr>\n",
       "      <th>1</th>\n",
       "      <td>3232</td>\n",
       "      <td>323.6</td>\n",
       "      <td>NaN</td>\n",
       "      <td>[2, 343]</td>\n",
       "    </tr>\n",
       "  </tbody>\n",
       "</table>\n",
       "</div>"
      ],
      "text/plain": [
       "      a     zy                    aff                      b\n",
       "0  3232  323.6  xyz dfsfasdfsa dfsfsd  [2, 343, [2343, 113]]\n",
       "1  3232  323.6                    NaN               [2, 343]"
      ]
     },
     "execution_count": 141,
     "metadata": {},
     "output_type": "execute_result"
    }
   ],
   "source": [
    "append_dict_to_df(df_01, dict_03)"
   ]
  },
  {
   "cell_type": "code",
   "execution_count": 143,
   "metadata": {},
   "outputs": [
    {
     "name": "stdout",
     "output_type": "stream",
     "text": [
      "5\n"
     ]
    },
    {
     "data": {
      "text/html": [
       "<div>\n",
       "<style scoped>\n",
       "    .dataframe tbody tr th:only-of-type {\n",
       "        vertical-align: middle;\n",
       "    }\n",
       "\n",
       "    .dataframe tbody tr th {\n",
       "        vertical-align: top;\n",
       "    }\n",
       "\n",
       "    .dataframe thead th {\n",
       "        text-align: right;\n",
       "    }\n",
       "</style>\n",
       "<table border=\"1\" class=\"dataframe\">\n",
       "  <thead>\n",
       "    <tr style=\"text-align: right;\">\n",
       "      <th></th>\n",
       "      <th>a</th>\n",
       "      <th>zy</th>\n",
       "      <th>aff</th>\n",
       "      <th>b</th>\n",
       "    </tr>\n",
       "  </thead>\n",
       "  <tbody>\n",
       "    <tr>\n",
       "      <th>0</th>\n",
       "      <td>3232</td>\n",
       "      <td>323.6</td>\n",
       "      <td>xyz dfsfasdfsa dfsfsd</td>\n",
       "      <td>[2, 343, [2343, 113]]</td>\n",
       "    </tr>\n",
       "    <tr>\n",
       "      <th>1</th>\n",
       "      <td>3232</td>\n",
       "      <td>323.6</td>\n",
       "      <td>None</td>\n",
       "      <td>[2, 343]</td>\n",
       "    </tr>\n",
       "    <tr>\n",
       "      <th>2</th>\n",
       "      <td>3232</td>\n",
       "      <td>323.6</td>\n",
       "      <td>None</td>\n",
       "      <td>[2, 343]</td>\n",
       "    </tr>\n",
       "    <tr>\n",
       "      <th>3</th>\n",
       "      <td>3232</td>\n",
       "      <td>323.6</td>\n",
       "      <td>None</td>\n",
       "      <td>[2, 343]</td>\n",
       "    </tr>\n",
       "    <tr>\n",
       "      <th>4</th>\n",
       "      <td>3232</td>\n",
       "      <td>323.6</td>\n",
       "      <td>NaN</td>\n",
       "      <td>[2, 343]</td>\n",
       "    </tr>\n",
       "  </tbody>\n",
       "</table>\n",
       "</div>"
      ],
      "text/plain": [
       "      a     zy                    aff                      b\n",
       "0  3232  323.6  xyz dfsfasdfsa dfsfsd  [2, 343, [2343, 113]]\n",
       "1  3232  323.6                   None               [2, 343]\n",
       "2  3232  323.6                   None               [2, 343]\n",
       "3  3232  323.6                   None               [2, 343]\n",
       "4  3232  323.6                    NaN               [2, 343]"
      ]
     },
     "execution_count": 143,
     "metadata": {},
     "output_type": "execute_result"
    }
   ],
   "source": [
    "update_json_file_with_dict('TEST_JSON.json', dict_03, save_file=True)"
   ]
  },
  {
   "cell_type": "code",
   "execution_count": 154,
   "metadata": {},
   "outputs": [],
   "source": [
    "dict_quiz_results = {'wrong_answer1': 'البحري', 'wrong_answer2': 'مؤقت', 'wrong_answer3': 'المشاكل', 'wrong_answer4': 'المؤتمر', 'wrong_answer5': 'إقليم', 'wrong_answer6': 'مكتب', 'wrong_answer7': 'الخصوص', 'wrong_answer8': 'المحلية', 'wrong_answer9': 'للأصول', 'wrong_answer10': 'الدينية', 'wrong_answer11': 'الصادرات', 'wrong_answer12': 'وثائق', 'wrong_answer13': 'الصناعية', 'wrong_answer14': 'قيام', 'wrong_answer15': 'جولة', 'wrong_answer16': 'الإجمالية', 'wrong_answer17': 'وصناديقها', 'wrong_answer18': 'كفركلا', 'wrong_answer19': 'الحائزة', 'wrong_answer20': 'الإشارة', 'quiz_name': 'AR_UN_CORPUS_16NOV2022/AR_GENERAL_VOCABULARY_001.csv', 'quiz_result': 'quiz_result', 'quiz_duration_minutes': '0', 'number_of_wrong_answers': '20'}"
   ]
  },
  {
   "cell_type": "code",
   "execution_count": 155,
   "metadata": {},
   "outputs": [],
   "source": [
    "list_mistakes = [v for k,v in dict_quiz_results.items() if k.startswith('wrong_answer')]"
   ]
  },
  {
   "cell_type": "code",
   "execution_count": 156,
   "metadata": {},
   "outputs": [],
   "source": [
    "dict_quiz_data = {k:v for k,v in dict_quiz_results.items() if ((k.startswith('wrong_answer') == False) and (k != 'quiz_result'))}"
   ]
  },
  {
   "cell_type": "code",
   "execution_count": 157,
   "metadata": {},
   "outputs": [],
   "source": [
    "dict_quiz_data['mistakes'] = list_mistakes"
   ]
  },
  {
   "cell_type": "code",
   "execution_count": 161,
   "metadata": {},
   "outputs": [
    {
     "data": {
      "text/html": [
       "<div>\n",
       "<style scoped>\n",
       "    .dataframe tbody tr th:only-of-type {\n",
       "        vertical-align: middle;\n",
       "    }\n",
       "\n",
       "    .dataframe tbody tr th {\n",
       "        vertical-align: top;\n",
       "    }\n",
       "\n",
       "    .dataframe thead th {\n",
       "        text-align: right;\n",
       "    }\n",
       "</style>\n",
       "<table border=\"1\" class=\"dataframe\">\n",
       "  <thead>\n",
       "    <tr style=\"text-align: right;\">\n",
       "      <th></th>\n",
       "      <th>quiz_name</th>\n",
       "      <th>quiz_duration_minutes</th>\n",
       "      <th>number_of_wrong_answers</th>\n",
       "      <th>mistakes</th>\n",
       "    </tr>\n",
       "  </thead>\n",
       "  <tbody>\n",
       "    <tr>\n",
       "      <th>0</th>\n",
       "      <td>AR_UN_CORPUS_16NOV2022/AR_GENERAL_VOCABULARY_0...</td>\n",
       "      <td>0</td>\n",
       "      <td>20</td>\n",
       "      <td>[البحري, مؤقت, المشاكل, المؤتمر, إقليم, مكتب, ...</td>\n",
       "    </tr>\n",
       "  </tbody>\n",
       "</table>\n",
       "</div>"
      ],
      "text/plain": [
       "                                           quiz_name quiz_duration_minutes  \\\n",
       "0  AR_UN_CORPUS_16NOV2022/AR_GENERAL_VOCABULARY_0...                     0   \n",
       "\n",
       "  number_of_wrong_answers                                           mistakes  \n",
       "0                      20  [البحري, مؤقت, المشاكل, المؤتمر, إقليم, مكتب, ...  "
      ]
     },
     "execution_count": 161,
     "metadata": {},
     "output_type": "execute_result"
    }
   ],
   "source": [
    "pd.DataFrame(data=dict_quiz_data.values(), index=dict_quiz_data.keys()).T"
   ]
  },
  {
   "cell_type": "code",
   "execution_count": null,
   "metadata": {},
   "outputs": [],
   "source": []
  }
 ],
 "metadata": {
  "kernelspec": {
   "display_name": "Python 3",
   "language": "python",
   "name": "python3"
  },
  "language_info": {
   "codemirror_mode": {
    "name": "ipython",
    "version": 3
   },
   "file_extension": ".py",
   "mimetype": "text/x-python",
   "name": "python",
   "nbconvert_exporter": "python",
   "pygments_lexer": "ipython3",
   "version": "3.8.7"
  }
 },
 "nbformat": 4,
 "nbformat_minor": 4
}
