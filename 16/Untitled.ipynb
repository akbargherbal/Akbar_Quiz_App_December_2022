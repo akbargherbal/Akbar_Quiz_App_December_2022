{
 "cells": [
  {
   "cell_type": "code",
   "execution_count": 9,
   "metadata": {},
   "outputs": [],
   "source": [
    "import utilities as ut"
   ]
  },
  {
   "cell_type": "code",
   "execution_count": 1,
   "metadata": {},
   "outputs": [],
   "source": [
    "import pandas as pd"
   ]
  },
  {
   "cell_type": "code",
   "execution_count": 3,
   "metadata": {},
   "outputs": [],
   "source": [
    "df = pd.read_json('quizzes_result.json')"
   ]
  },
  {
   "cell_type": "code",
   "execution_count": 5,
   "metadata": {},
   "outputs": [
    {
     "data": {
      "text/plain": [
       "'AR_UN_CORPUS_16NOV2022/AR_GENERAL_VOCABULARY_001.csv'"
      ]
     },
     "execution_count": 5,
     "metadata": {},
     "output_type": "execute_result"
    }
   ],
   "source": [
    "df['quiz_name'].iloc[0]"
   ]
  },
  {
   "cell_type": "code",
   "execution_count": 6,
   "metadata": {},
   "outputs": [
    {
     "data": {
      "text/plain": [
       "False"
      ]
     },
     "execution_count": 6,
     "metadata": {},
     "output_type": "execute_result"
    }
   ],
   "source": [
    "'AR_UN_CORPUS_16NOV2022/AR_GENERAL_VOCABULARY_001.csv' == 'AR_UN_CORPUS_16NOV2022/AR_GENERAL_VOCABULARY_001.csv'"
   ]
  },
  {
   "cell_type": "code",
   "execution_count": 15,
   "metadata": {},
   "outputs": [],
   "source": [
    "test_02 = list(df.quiz_name)"
   ]
  },
  {
   "cell_type": "code",
   "execution_count": 13,
   "metadata": {},
   "outputs": [],
   "source": [
    "test_01 = ut.get_quiz_collection('quiz_repo/02_EN_VERB_AV--16NOV2022.zip')"
   ]
  },
  {
   "cell_type": "code",
   "execution_count": 20,
   "metadata": {},
   "outputs": [
    {
     "data": {
      "text/plain": [
       "'EN_VERB_AV_16NOV2022/VERB_QUIZ_070.csv'"
      ]
     },
     "execution_count": 20,
     "metadata": {},
     "output_type": "execute_result"
    }
   ],
   "source": [
    "list(set(test_01) - set(test_02))[0]"
   ]
  },
  {
   "cell_type": "code",
   "execution_count": 21,
   "metadata": {},
   "outputs": [
    {
     "data": {
      "text/plain": [
       "['EN_VERB_AV_16NOV2022/VERB_QUIZ_001.csv',\n",
       " 'EN_VERB_AV_16NOV2022/VERB_QUIZ_002.csv',\n",
       " 'EN_VERB_AV_16NOV2022/VERB_QUIZ_003.csv',\n",
       " 'EN_VERB_AV_16NOV2022/VERB_QUIZ_004.csv',\n",
       " 'EN_VERB_AV_16NOV2022/VERB_QUIZ_005.csv',\n",
       " 'EN_VERB_AV_16NOV2022/VERB_QUIZ_006.csv',\n",
       " 'EN_VERB_AV_16NOV2022/VERB_QUIZ_007.csv',\n",
       " 'EN_VERB_AV_16NOV2022/VERB_QUIZ_008.csv',\n",
       " 'EN_VERB_AV_16NOV2022/VERB_QUIZ_009.csv',\n",
       " 'EN_VERB_AV_16NOV2022/VERB_QUIZ_010.csv',\n",
       " 'EN_VERB_AV_16NOV2022/VERB_QUIZ_011.csv',\n",
       " 'EN_VERB_AV_16NOV2022/VERB_QUIZ_012.csv',\n",
       " 'EN_VERB_AV_16NOV2022/VERB_QUIZ_013.csv',\n",
       " 'EN_VERB_AV_16NOV2022/VERB_QUIZ_014.csv',\n",
       " 'EN_VERB_AV_16NOV2022/VERB_QUIZ_015.csv',\n",
       " 'EN_VERB_AV_16NOV2022/VERB_QUIZ_016.csv',\n",
       " 'EN_VERB_AV_16NOV2022/VERB_QUIZ_017.csv',\n",
       " 'EN_VERB_AV_16NOV2022/VERB_QUIZ_018.csv',\n",
       " 'EN_VERB_AV_16NOV2022/VERB_QUIZ_019.csv',\n",
       " 'EN_VERB_AV_16NOV2022/VERB_QUIZ_020.csv',\n",
       " 'EN_VERB_AV_16NOV2022/VERB_QUIZ_021.csv',\n",
       " 'EN_VERB_AV_16NOV2022/VERB_QUIZ_022.csv',\n",
       " 'EN_VERB_AV_16NOV2022/VERB_QUIZ_023.csv',\n",
       " 'EN_VERB_AV_16NOV2022/VERB_QUIZ_024.csv',\n",
       " 'EN_VERB_AV_16NOV2022/VERB_QUIZ_025.csv',\n",
       " 'EN_VERB_AV_16NOV2022/VERB_QUIZ_026.csv',\n",
       " 'EN_VERB_AV_16NOV2022/VERB_QUIZ_027.csv',\n",
       " 'EN_VERB_AV_16NOV2022/VERB_QUIZ_028.csv',\n",
       " 'EN_VERB_AV_16NOV2022/VERB_QUIZ_029.csv',\n",
       " 'EN_VERB_AV_16NOV2022/VERB_QUIZ_030.csv',\n",
       " 'EN_VERB_AV_16NOV2022/VERB_QUIZ_031.csv',\n",
       " 'EN_VERB_AV_16NOV2022/VERB_QUIZ_032.csv',\n",
       " 'EN_VERB_AV_16NOV2022/VERB_QUIZ_033.csv',\n",
       " 'EN_VERB_AV_16NOV2022/VERB_QUIZ_034.csv',\n",
       " 'EN_VERB_AV_16NOV2022/VERB_QUIZ_035.csv',\n",
       " 'EN_VERB_AV_16NOV2022/VERB_QUIZ_036.csv',\n",
       " 'EN_VERB_AV_16NOV2022/VERB_QUIZ_037.csv',\n",
       " 'EN_VERB_AV_16NOV2022/VERB_QUIZ_038.csv',\n",
       " 'EN_VERB_AV_16NOV2022/VERB_QUIZ_039.csv',\n",
       " 'EN_VERB_AV_16NOV2022/VERB_QUIZ_040.csv',\n",
       " 'EN_VERB_AV_16NOV2022/VERB_QUIZ_041.csv',\n",
       " 'EN_VERB_AV_16NOV2022/VERB_QUIZ_042.csv',\n",
       " 'EN_VERB_AV_16NOV2022/VERB_QUIZ_043.csv',\n",
       " 'EN_VERB_AV_16NOV2022/VERB_QUIZ_044.csv',\n",
       " 'EN_VERB_AV_16NOV2022/VERB_QUIZ_045.csv',\n",
       " 'EN_VERB_AV_16NOV2022/VERB_QUIZ_046.csv',\n",
       " 'EN_VERB_AV_16NOV2022/VERB_QUIZ_047.csv',\n",
       " 'EN_VERB_AV_16NOV2022/VERB_QUIZ_048.csv',\n",
       " 'EN_VERB_AV_16NOV2022/VERB_QUIZ_049.csv',\n",
       " 'EN_VERB_AV_16NOV2022/VERB_QUIZ_050.csv',\n",
       " 'EN_VERB_AV_16NOV2022/VERB_QUIZ_051.csv',\n",
       " 'EN_VERB_AV_16NOV2022/VERB_QUIZ_052.csv',\n",
       " 'EN_VERB_AV_16NOV2022/VERB_QUIZ_053.csv',\n",
       " 'EN_VERB_AV_16NOV2022/VERB_QUIZ_054.csv',\n",
       " 'EN_VERB_AV_16NOV2022/VERB_QUIZ_055.csv',\n",
       " 'EN_VERB_AV_16NOV2022/VERB_QUIZ_056.csv',\n",
       " 'EN_VERB_AV_16NOV2022/VERB_QUIZ_057.csv',\n",
       " 'EN_VERB_AV_16NOV2022/VERB_QUIZ_058.csv',\n",
       " 'EN_VERB_AV_16NOV2022/VERB_QUIZ_059.csv',\n",
       " 'EN_VERB_AV_16NOV2022/VERB_QUIZ_060.csv',\n",
       " 'EN_VERB_AV_16NOV2022/VERB_QUIZ_061.csv',\n",
       " 'EN_VERB_AV_16NOV2022/VERB_QUIZ_062.csv',\n",
       " 'EN_VERB_AV_16NOV2022/VERB_QUIZ_063.csv',\n",
       " 'EN_VERB_AV_16NOV2022/VERB_QUIZ_064.csv',\n",
       " 'EN_VERB_AV_16NOV2022/VERB_QUIZ_065.csv',\n",
       " 'EN_VERB_AV_16NOV2022/VERB_QUIZ_066.csv',\n",
       " 'EN_VERB_AV_16NOV2022/VERB_QUIZ_067.csv',\n",
       " 'EN_VERB_AV_16NOV2022/VERB_QUIZ_068.csv',\n",
       " 'EN_VERB_AV_16NOV2022/VERB_QUIZ_069.csv',\n",
       " 'EN_VERB_AV_16NOV2022/VERB_QUIZ_070.csv',\n",
       " 'EN_VERB_AV_16NOV2022/VERB_QUIZ_071.csv',\n",
       " 'EN_VERB_AV_16NOV2022/VERB_QUIZ_072.csv',\n",
       " 'EN_VERB_AV_16NOV2022/VERB_QUIZ_073.csv',\n",
       " 'EN_VERB_AV_16NOV2022/VERB_QUIZ_074.csv',\n",
       " 'EN_VERB_AV_16NOV2022/VERB_QUIZ_075.csv',\n",
       " 'EN_VERB_AV_16NOV2022/VERB_QUIZ_076.csv',\n",
       " 'EN_VERB_AV_16NOV2022/VERB_QUIZ_077.csv',\n",
       " 'EN_VERB_AV_16NOV2022/VERB_QUIZ_078.csv',\n",
       " 'EN_VERB_AV_16NOV2022/VERB_QUIZ_079.csv',\n",
       " 'EN_VERB_AV_16NOV2022/VERB_QUIZ_080.csv',\n",
       " 'EN_VERB_AV_16NOV2022/VERB_QUIZ_081.csv',\n",
       " 'EN_VERB_AV_16NOV2022/VERB_QUIZ_082.csv',\n",
       " 'EN_VERB_AV_16NOV2022/VERB_QUIZ_083.csv',\n",
       " 'EN_VERB_AV_16NOV2022/VERB_QUIZ_084.csv',\n",
       " 'EN_VERB_AV_16NOV2022/VERB_QUIZ_085.csv',\n",
       " 'EN_VERB_AV_16NOV2022/VERB_QUIZ_086.csv',\n",
       " 'EN_VERB_AV_16NOV2022/VERB_QUIZ_087.csv',\n",
       " 'EN_VERB_AV_16NOV2022/VERB_QUIZ_088.csv',\n",
       " 'EN_VERB_AV_16NOV2022/VERB_QUIZ_089.csv',\n",
       " 'EN_VERB_AV_16NOV2022/VERB_QUIZ_090.csv',\n",
       " 'EN_VERB_AV_16NOV2022/VERB_QUIZ_091.csv',\n",
       " 'EN_VERB_AV_16NOV2022/VERB_QUIZ_092.csv',\n",
       " 'EN_VERB_AV_16NOV2022/VERB_QUIZ_093.csv',\n",
       " 'EN_VERB_AV_16NOV2022/VERB_QUIZ_094.csv',\n",
       " 'EN_VERB_AV_16NOV2022/VERB_QUIZ_095.csv',\n",
       " 'EN_VERB_AV_16NOV2022/VERB_QUIZ_096.csv',\n",
       " 'EN_VERB_AV_16NOV2022/VERB_QUIZ_097.csv',\n",
       " 'EN_VERB_AV_16NOV2022/VERB_QUIZ_098.csv',\n",
       " 'EN_VERB_AV_16NOV2022/VERB_QUIZ_099.csv',\n",
       " 'EN_VERB_AV_16NOV2022/VERB_QUIZ_100.csv']"
      ]
     },
     "execution_count": 21,
     "metadata": {},
     "output_type": "execute_result"
    }
   ],
   "source": [
    "test_01"
   ]
  },
  {
   "cell_type": "code",
   "execution_count": 26,
   "metadata": {},
   "outputs": [],
   "source": [
    "list_tried_quizzes = pd.read_json('quizzes_result.json', encoding='utf')\n",
    "list_tried_quizzes = list(list_tried_quizzes.quiz_name)"
   ]
  },
  {
   "cell_type": "code",
   "execution_count": 27,
   "metadata": {},
   "outputs": [
    {
     "data": {
      "text/plain": [
       "['AR_UN_CORPUS_16NOV2022/AR_GENERAL_VOCABULARY_001.csv',\n",
       " 'EN_VERB_AV_16NOV2022/VERB_QUIZ_001.csv',\n",
       " 'EN_VERB_AV_16NOV2022/VERB_QUIZ_001.csv']"
      ]
     },
     "execution_count": 27,
     "metadata": {},
     "output_type": "execute_result"
    }
   ],
   "source": [
    "list_tried_quizzes"
   ]
  },
  {
   "cell_type": "code",
   "execution_count": null,
   "metadata": {},
   "outputs": [],
   "source": []
  }
 ],
 "metadata": {
  "kernelspec": {
   "display_name": "Python 3",
   "language": "python",
   "name": "python3"
  },
  "language_info": {
   "codemirror_mode": {
    "name": "ipython",
    "version": 3
   },
   "file_extension": ".py",
   "mimetype": "text/x-python",
   "name": "python",
   "nbconvert_exporter": "python",
   "pygments_lexer": "ipython3",
   "version": "3.8.7"
  }
 },
 "nbformat": 4,
 "nbformat_minor": 4
}
