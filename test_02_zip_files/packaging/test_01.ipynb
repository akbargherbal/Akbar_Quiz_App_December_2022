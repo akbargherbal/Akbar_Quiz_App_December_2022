{
 "cells": [
  {
   "cell_type": "code",
   "execution_count": 13,
   "metadata": {},
   "outputs": [],
   "source": [
    "from collections import defaultdict"
   ]
  },
  {
   "cell_type": "code",
   "execution_count": 1,
   "metadata": {},
   "outputs": [],
   "source": [
    "from zipfile import ZipFile\n",
    "import os\n",
    "\n",
    "zf = ZipFile('./QUIZ_ON_CMD.zip')"
   ]
  },
  {
   "cell_type": "code",
   "execution_count": 2,
   "metadata": {},
   "outputs": [],
   "source": [
    "def get_quiz_collection(zp_object):\n",
    "    quiz_collections  = []\n",
    "    for i in zp_object.filelist:\n",
    "        if i.filename.endswith('.csv') == False:\n",
    "            quiz_collections.append(i.filename)\n",
    "\n",
    "    return quiz_collections\n",
    "\n",
    "quiz_collections = get_quiz_collection(zf)"
   ]
  },
  {
   "cell_type": "code",
   "execution_count": 3,
   "metadata": {},
   "outputs": [
    {
     "data": {
      "text/plain": [
       "['NOUN_CMD_AUTHOR_VOICE_16_November_2022/',\n",
       " 'UN_ARABIC_QUIZZES_16_November_2022/',\n",
       " 'VERB_CMD_AUTHOR_VOICE_16_November_2022/']"
      ]
     },
     "execution_count": 3,
     "metadata": {},
     "output_type": "execute_result"
    }
   ],
   "source": [
    "quiz_collections"
   ]
  },
  {
   "cell_type": "code",
   "execution_count": 4,
   "metadata": {},
   "outputs": [],
   "source": [
    "# List of CSV Files\n",
    "def get_csv_files(zp_object):\n",
    "    csv_files = []\n",
    "    for i in zp_object.filelist:\n",
    "        if i.filename.endswith('.csv'):\n",
    "            csv_files.append(i.filename)\n",
    "    return csv_files\n",
    "csv_files  = get_csv_files(zf)"
   ]
  },
  {
   "cell_type": "code",
   "execution_count": 8,
   "metadata": {},
   "outputs": [
    {
     "data": {
      "text/plain": [
       "'NOUN_CMD_AUTHOR_VOICE_16_November_2022/NOUN_QUIZ_001.csv'"
      ]
     },
     "execution_count": 8,
     "metadata": {},
     "output_type": "execute_result"
    }
   ],
   "source": [
    "csv_files[0]"
   ]
  },
  {
   "cell_type": "code",
   "execution_count": 9,
   "metadata": {},
   "outputs": [],
   "source": [
    "import pandas as pd"
   ]
  },
  {
   "cell_type": "code",
   "execution_count": 14,
   "metadata": {},
   "outputs": [],
   "source": [
    "# Mapping Quiz Collections to CSV Files\n",
    "def create_collections_vs_quiz(quiz_collections, csv_files):\n",
    "    'Map Quiz Collections to Quiz Files'\n",
    "    dict_collection_vs_file = defaultdict(list)\n",
    "    for quiz in quiz_collections:\n",
    "        for csv_f in csv_files:\n",
    "            if csv_f.startswith(quiz):\n",
    "                dict_collection_vs_file[quiz].append(csv_f)\n",
    "    dict_collection_vs_file = dict(dict_collection_vs_file)            \n",
    "    dict_collection_vs_file = {k: sorted(v) for k,v in dict_collection_vs_file.items()}\n",
    "    return dict_collection_vs_file"
   ]
  },
  {
   "cell_type": "code",
   "execution_count": 15,
   "metadata": {},
   "outputs": [],
   "source": [
    "dict_collection_vs_file = create_collections_vs_quiz(quiz_collections, csv_files)\n",
    "list_quiz_collection = list(dict_collection_vs_file)\n",
    "dict_dig_vs_collection = {idx:i for (idx, i) in enumerate(list_quiz_collection)}"
   ]
  },
  {
   "cell_type": "code",
   "execution_count": 17,
   "metadata": {},
   "outputs": [
    {
     "data": {
      "text/plain": [
       "3"
      ]
     },
     "execution_count": 17,
     "metadata": {},
     "output_type": "execute_result"
    }
   ],
   "source": [
    "len(dict_collection_vs_file)"
   ]
  },
  {
   "cell_type": "code",
   "execution_count": 21,
   "metadata": {},
   "outputs": [],
   "source": [
    "quiz_list = dict_collection_vs_file[dict_dig_vs_collection[1]]"
   ]
  },
  {
   "cell_type": "code",
   "execution_count": 24,
   "metadata": {},
   "outputs": [
    {
     "data": {
      "text/html": [
       "<div>\n",
       "<style scoped>\n",
       "    .dataframe tbody tr th:only-of-type {\n",
       "        vertical-align: middle;\n",
       "    }\n",
       "\n",
       "    .dataframe tbody tr th {\n",
       "        vertical-align: top;\n",
       "    }\n",
       "\n",
       "    .dataframe thead th {\n",
       "        text-align: right;\n",
       "    }\n",
       "</style>\n",
       "<table border=\"1\" class=\"dataframe\">\n",
       "  <thead>\n",
       "    <tr style=\"text-align: right;\">\n",
       "      <th></th>\n",
       "      <th>QUESTION_TEXT</th>\n",
       "      <th>OPTION_1</th>\n",
       "      <th>OPTION_2</th>\n",
       "      <th>OPTION_3</th>\n",
       "    </tr>\n",
       "  </thead>\n",
       "  <tbody>\n",
       "    <tr>\n",
       "      <th>0</th>\n",
       "      <td>-ومن بين هذه الاتفاقيات اتفاقية روتردام المتعل...</td>\n",
       "      <td>البحري</td>\n",
       "      <td>والبحري</td>\n",
       "      <td>البحرى</td>\n",
       "    </tr>\n",
       "    <tr>\n",
       "      <th>1</th>\n",
       "      <td>-31 - وقد أدت هذه التغيرات إلى التراجع التدريج...</td>\n",
       "      <td>مؤقت</td>\n",
       "      <td>ومؤقت</td>\n",
       "      <td>مؤقتة</td>\n",
       "    </tr>\n",
       "    <tr>\n",
       "      <th>2</th>\n",
       "      <td>-) أ ( وضع النهج الإقليمية للتنمية المستدامة /...</td>\n",
       "      <td>المشاكل</td>\n",
       "      <td>المشاكلة</td>\n",
       "      <td>والمشاكل</td>\n",
       "    </tr>\n",
       "    <tr>\n",
       "      <th>3</th>\n",
       "      <td>-المادة ٥١ عند افتتاح الجلسة الأولى للمؤتمر يت...</td>\n",
       "      <td>المؤتمر</td>\n",
       "      <td>والمؤتمر</td>\n",
       "      <td>المؤتمري</td>\n",
       "    </tr>\n",
       "    <tr>\n",
       "      <th>4</th>\n",
       "      <td>-10 - وفي الوقت نفسه ، وفي محاولة لتخفيف التوت...</td>\n",
       "      <td>إقليم</td>\n",
       "      <td>فإقليم</td>\n",
       "      <td>كإقليم</td>\n",
       "    </tr>\n",
       "    <tr>\n",
       "      <th>5</th>\n",
       "      <td>-أما القضايا التي لم يبت فيها ، والتي تحتفظ ال...</td>\n",
       "      <td>مكتب</td>\n",
       "      <td>كمكتب</td>\n",
       "      <td>المكتب</td>\n",
       "    </tr>\n",
       "    <tr>\n",
       "      <th>6</th>\n",
       "      <td>-وترى اللجنة ، على وجه ا ـ ـ ـ ـ ص ، أنه يتعين...</td>\n",
       "      <td>الخصوص</td>\n",
       "      <td>وجه</td>\n",
       "      <td>والخصوص</td>\n",
       "    </tr>\n",
       "    <tr>\n",
       "      <th>7</th>\n",
       "      <td>-فهي تلعب دورا هاما في كفالة كفاءة الأسواق ا ـ...</td>\n",
       "      <td>المحلية</td>\n",
       "      <td>المحليةفي</td>\n",
       "      <td>والمحلية</td>\n",
       "    </tr>\n",
       "    <tr>\n",
       "      <th>8</th>\n",
       "      <td>-المشاريع ذات الصلة بالأمن التي اقترحت للمقر أ...</td>\n",
       "      <td>للأصول</td>\n",
       "      <td>لأصول</td>\n",
       "      <td>بالأصول</td>\n",
       "    </tr>\n",
       "    <tr>\n",
       "      <th>9</th>\n",
       "      <td>-وترد في الفقرة 778 الواردة في نهاية التقرير إ...</td>\n",
       "      <td>الدينية</td>\n",
       "      <td>والدينية</td>\n",
       "      <td>الديني</td>\n",
       "    </tr>\n",
       "    <tr>\n",
       "      <th>10</th>\n",
       "      <td>-93 - وتوجد لدى ما مجموعه 80 دولة بعض التشريعا...</td>\n",
       "      <td>الصادرات</td>\n",
       "      <td>لصادرات</td>\n",
       "      <td>والصادرات</td>\n",
       "    </tr>\n",
       "    <tr>\n",
       "      <th>11</th>\n",
       "      <td>-وسأكون ممتنا لكم لو تفضلتم بتعميم هذه الرسالة...</td>\n",
       "      <td>وثائق</td>\n",
       "      <td>كوثائق</td>\n",
       "      <td>ووثائق</td>\n",
       "    </tr>\n",
       "    <tr>\n",
       "      <th>12</th>\n",
       "      <td>-البرنامج المشترك بين المنظمات المعني بالإدارة...</td>\n",
       "      <td>الصناعية</td>\n",
       "      <td>والصناعية</td>\n",
       "      <td>الصناعي</td>\n",
       "    </tr>\n",
       "    <tr>\n",
       "      <th>13</th>\n",
       "      <td>-وتعتقد اللجنة أن عدم ق ـ ـ ـ  الشرطة بإجراء ت...</td>\n",
       "      <td>قيام</td>\n",
       "      <td>وقيام</td>\n",
       "      <td>فقيام</td>\n",
       "    </tr>\n",
       "    <tr>\n",
       "      <th>14</th>\n",
       "      <td>-١٧ - في الجزء الثاني من الدورة التاسعة والثلا...</td>\n",
       "      <td>جولة</td>\n",
       "      <td>وجولة</td>\n",
       "      <td>لجولة</td>\n",
       "    </tr>\n",
       "    <tr>\n",
       "      <th>15</th>\n",
       "      <td>-32 - ويبين الجدول 2 الاختلافات الكبيرة من حيث...</td>\n",
       "      <td>الإجمالية</td>\n",
       "      <td>الإجماليه</td>\n",
       "      <td>الإجمالي</td>\n",
       "    </tr>\n",
       "    <tr>\n",
       "      <th>16</th>\n",
       "      <td>-وتهدف هذه الاستراتيجية إلى تجميع الموارد الما...</td>\n",
       "      <td>وصناديقها</td>\n",
       "      <td>وصناديق</td>\n",
       "      <td>بصناديق</td>\n",
       "    </tr>\n",
       "    <tr>\n",
       "      <th>17</th>\n",
       "      <td>-خرقت الأجواء اللبنانية طائرتان حربيتان للعدو ...</td>\n",
       "      <td>كفركلا</td>\n",
       "      <td>كفررحتا</td>\n",
       "      <td>كفرحتا</td>\n",
       "    </tr>\n",
       "    <tr>\n",
       "      <th>18</th>\n",
       "      <td>-46 - وأضاف قائلا إن تركيا سوف تواصل تشجيع الم...</td>\n",
       "      <td>الحائزة</td>\n",
       "      <td>والحائزة</td>\n",
       "      <td>وحائزة</td>\n",
       "    </tr>\n",
       "    <tr>\n",
       "      <th>19</th>\n",
       "      <td>-وسيعد هذا الكتيب بوصفه دليلا عمليا يهدف إلى ت...</td>\n",
       "      <td>الإشارة</td>\n",
       "      <td>الإشار</td>\n",
       "      <td>فالإشارة</td>\n",
       "    </tr>\n",
       "  </tbody>\n",
       "</table>\n",
       "</div>"
      ],
      "text/plain": [
       "                                        QUESTION_TEXT   OPTION_1   OPTION_2  \\\n",
       "0   -ومن بين هذه الاتفاقيات اتفاقية روتردام المتعل...     البحري    والبحري   \n",
       "1   -31 - وقد أدت هذه التغيرات إلى التراجع التدريج...       مؤقت      ومؤقت   \n",
       "2   -) أ ( وضع النهج الإقليمية للتنمية المستدامة /...    المشاكل   المشاكلة   \n",
       "3   -المادة ٥١ عند افتتاح الجلسة الأولى للمؤتمر يت...    المؤتمر   والمؤتمر   \n",
       "4   -10 - وفي الوقت نفسه ، وفي محاولة لتخفيف التوت...      إقليم     فإقليم   \n",
       "5   -أما القضايا التي لم يبت فيها ، والتي تحتفظ ال...       مكتب      كمكتب   \n",
       "6   -وترى اللجنة ، على وجه ا ـ ـ ـ ـ ص ، أنه يتعين...     الخصوص        وجه   \n",
       "7   -فهي تلعب دورا هاما في كفالة كفاءة الأسواق ا ـ...    المحلية  المحليةفي   \n",
       "8   -المشاريع ذات الصلة بالأمن التي اقترحت للمقر أ...     للأصول      لأصول   \n",
       "9   -وترد في الفقرة 778 الواردة في نهاية التقرير إ...    الدينية   والدينية   \n",
       "10  -93 - وتوجد لدى ما مجموعه 80 دولة بعض التشريعا...   الصادرات    لصادرات   \n",
       "11  -وسأكون ممتنا لكم لو تفضلتم بتعميم هذه الرسالة...      وثائق     كوثائق   \n",
       "12  -البرنامج المشترك بين المنظمات المعني بالإدارة...   الصناعية  والصناعية   \n",
       "13  -وتعتقد اللجنة أن عدم ق ـ ـ ـ  الشرطة بإجراء ت...       قيام      وقيام   \n",
       "14  -١٧ - في الجزء الثاني من الدورة التاسعة والثلا...       جولة      وجولة   \n",
       "15  -32 - ويبين الجدول 2 الاختلافات الكبيرة من حيث...  الإجمالية  الإجماليه   \n",
       "16  -وتهدف هذه الاستراتيجية إلى تجميع الموارد الما...  وصناديقها    وصناديق   \n",
       "17  -خرقت الأجواء اللبنانية طائرتان حربيتان للعدو ...     كفركلا    كفررحتا   \n",
       "18  -46 - وأضاف قائلا إن تركيا سوف تواصل تشجيع الم...    الحائزة   والحائزة   \n",
       "19  -وسيعد هذا الكتيب بوصفه دليلا عمليا يهدف إلى ت...    الإشارة     الإشار   \n",
       "\n",
       "     OPTION_3  \n",
       "0      البحرى  \n",
       "1       مؤقتة  \n",
       "2    والمشاكل  \n",
       "3    المؤتمري  \n",
       "4      كإقليم  \n",
       "5      المكتب  \n",
       "6     والخصوص  \n",
       "7    والمحلية  \n",
       "8     بالأصول  \n",
       "9      الديني  \n",
       "10  والصادرات  \n",
       "11     ووثائق  \n",
       "12    الصناعي  \n",
       "13      فقيام  \n",
       "14      لجولة  \n",
       "15   الإجمالي  \n",
       "16    بصناديق  \n",
       "17     كفرحتا  \n",
       "18     وحائزة  \n",
       "19   فالإشارة  "
      ]
     },
     "execution_count": 24,
     "metadata": {},
     "output_type": "execute_result"
    }
   ],
   "source": [
    "pd.read_csv(zf.open(quiz_list[0]), encoding='utf-8')"
   ]
  },
  {
   "cell_type": "code",
   "execution_count": null,
   "metadata": {},
   "outputs": [],
   "source": []
  }
 ],
 "metadata": {
  "kernelspec": {
   "display_name": "gcp_evn_01",
   "language": "python",
   "name": "gcp_evn_01"
  },
  "language_info": {
   "codemirror_mode": {
    "name": "ipython",
    "version": 3
   },
   "file_extension": ".py",
   "mimetype": "text/x-python",
   "name": "python",
   "nbconvert_exporter": "python",
   "pygments_lexer": "ipython3",
   "version": "3.8.7"
  }
 },
 "nbformat": 4,
 "nbformat_minor": 4
}
