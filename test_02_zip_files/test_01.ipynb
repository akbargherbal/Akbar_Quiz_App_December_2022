{
 "cells": [
  {
   "cell_type": "code",
   "execution_count": null,
   "metadata": {},
   "outputs": [],
   "source": [
    "from collections import defaultdict\n",
    "\n",
    "import pandas as pd\n",
    "\n",
    "from zipfile import ZipFile\n",
    "import os\n",
    "\n",
    "zf = ZipFile('./QUIZ_ON_CMD.zip')\n",
    "\n",
    "def get_quiz_collection(zp_object):\n",
    "    quiz_collections  = []\n",
    "    for i in zp_object.filelist:\n",
    "        if i.filename.endswith('.csv') == False:\n",
    "            quiz_collections.append(i.filename)\n",
    "\n",
    "    return quiz_collections\n",
    "\n",
    "quiz_collections = get_quiz_collection(zf)\n",
    "\n",
    "quiz_collections\n",
    "\n",
    "# List of CSV Files\n",
    "def get_csv_files(zp_object):\n",
    "    csv_files = []\n",
    "    for i in zp_object.filelist:\n",
    "        if i.filename.endswith('.csv'):\n",
    "            csv_files.append(i.filename)\n",
    "    return csv_files\n",
    "csv_files  = get_csv_files(zf)\n",
    "\n",
    "# Mapping Quiz Collections to CSV Files\n",
    "def create_collections_vs_quiz(quiz_collections, csv_files):\n",
    "    'Map Quiz Collections to Quiz Files'\n",
    "    dict_collection_vs_file = defaultdict(list)\n",
    "    for quiz in quiz_collections:\n",
    "        for csv_f in csv_files:\n",
    "            if csv_f.startswith(quiz):\n",
    "                dict_collection_vs_file[quiz].append(csv_f)\n",
    "    dict_collection_vs_file = dict(dict_collection_vs_file)            \n",
    "    dict_collection_vs_file = {k: sorted(v) for k,v in dict_collection_vs_file.items()}\n",
    "    return dict_collection_vs_file\n",
    "\n",
    "dict_collection_vs_file = create_collections_vs_quiz(quiz_collections, csv_files)\n",
    "list_quiz_collection = list(dict_collection_vs_file)\n",
    "dict_dig_vs_collection = {idx:i for (idx, i) in enumerate(list_quiz_collection)}\n",
    "\n",
    "def open_zip_csv(idx=0, coll_no=0):\n",
    "    quiz_list = dict_collection_vs_file[dict_dig_vs_collection[coll_no]]\n",
    "    return pd.read_csv(zf.open(quiz_list[idx]), encoding='utf-8')"
   ]
  },
  {
   "cell_type": "code",
   "execution_count": null,
   "metadata": {},
   "outputs": [],
   "source": []
  },
  {
   "cell_type": "code",
   "execution_count": 14,
   "metadata": {},
   "outputs": [],
   "source": [
    "def csv_zip_path(idx=0, coll_no=0):\n",
    "    quiz_list = dict_collection_vs_file[dict_dig_vs_collection[coll_no]]\n",
    "    return quiz_list[idx]"
   ]
  },
  {
   "cell_type": "code",
   "execution_count": 15,
   "metadata": {},
   "outputs": [
    {
     "data": {
      "text/plain": [
       "'NOUN_CMD_AUTHOR_VOICE_16_November_2022/NOUN_QUIZ_001.csv'"
      ]
     },
     "execution_count": 15,
     "metadata": {},
     "output_type": "execute_result"
    }
   ],
   "source": [
    "csv_zip_path()"
   ]
  },
  {
   "cell_type": "code",
   "execution_count": null,
   "metadata": {},
   "outputs": [],
   "source": []
  }
 ],
 "metadata": {
  "kernelspec": {
   "display_name": "gcp_evn_01",
   "language": "python",
   "name": "gcp_evn_01"
  },
  "language_info": {
   "codemirror_mode": {
    "name": "ipython",
    "version": 3
   },
   "file_extension": ".py",
   "mimetype": "text/x-python",
   "name": "python",
   "nbconvert_exporter": "python",
   "pygments_lexer": "ipython3",
   "version": "3.8.7"
  }
 },
 "nbformat": 4,
 "nbformat_minor": 4
}
