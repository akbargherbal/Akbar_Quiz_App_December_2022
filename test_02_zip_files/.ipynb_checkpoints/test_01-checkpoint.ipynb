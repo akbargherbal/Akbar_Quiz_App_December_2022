{
 "cells": [
  {
   "cell_type": "code",
   "execution_count": null,
   "metadata": {},
   "outputs": [],
   "source": [
    "from zipfile import ZipFile\n",
    "import os\n",
    "\n",
    "zf = ZipFile('./QUIZ_ON_CMD.zip')"
   ]
  },
  {
   "cell_type": "code",
   "execution_count": null,
   "metadata": {},
   "outputs": [],
   "source": [
    "def get_quiz_collection(zp_object):\n",
    "    quiz_collections  = []\n",
    "    for i in zp_object.filelist:\n",
    "        if i.filename.endswith('.csv') == False:\n",
    "            quiz_collections.append(i.filename)\n",
    "\n",
    "    return quiz_collections\n",
    "\n",
    "quiz_collections = get_quiz_collection(zf)"
   ]
  },
  {
   "cell_type": "code",
   "execution_count": null,
   "metadata": {},
   "outputs": [],
   "source": [
    "quiz_collections"
   ]
  },
  {
   "cell_type": "code",
   "execution_count": null,
   "metadata": {},
   "outputs": [],
   "source": []
  }
 ],
 "metadata": {
  "language_info": {
   "name": "python"
  },
  "orig_nbformat": 4
 },
 "nbformat": 4,
 "nbformat_minor": 2
}
